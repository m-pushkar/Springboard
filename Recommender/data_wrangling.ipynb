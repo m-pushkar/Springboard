{
 "cells": [
  {
   "cell_type": "markdown",
   "id": "worse-knitting",
   "metadata": {},
   "source": [
    "# `Buisness Dataset`"
   ]
  },
  {
   "cell_type": "code",
   "execution_count": 1,
   "id": "separated-violence",
   "metadata": {},
   "outputs": [],
   "source": [
    "# Import libraries\n",
    "\n",
    "import pandas as pd\n",
    "import numpy as np\n",
    "from collections import defaultdict"
   ]
  },
  {
   "cell_type": "raw",
   "id": "renewable-division",
   "metadata": {},
   "source": [
    "%run -i 'json_to_csv.py' 'business.json'\n",
    "%run -i 'json_to_csv.py' 'checkin.json'\n",
    "%run -i 'json_to_csv.py' 'review.json'\n",
    "%run -i 'json_to_csv.py' 'tip.json'\n",
    "%run -i 'json_to_csv.py' 'user.json'"
   ]
  },
  {
   "cell_type": "code",
   "execution_count": 2,
   "id": "virgin-bulgaria",
   "metadata": {},
   "outputs": [
    {
     "name": "stderr",
     "output_type": "stream",
     "text": [
      "/opt/conda/lib/python3.7/site-packages/IPython/core/interactiveshell.py:3156: DtypeWarning: Columns (18,49) have mixed types.Specify dtype option on import or set low_memory=False.\n",
      "  interactivity=interactivity, compiler=compiler, result=result)\n"
     ]
    },
    {
     "name": "stdout",
     "output_type": "stream",
     "text": [
      "<class 'pandas.core.frame.DataFrame'>\n",
      "RangeIndex: 209393 entries, 0 to 209392\n",
      "Data columns (total 60 columns):\n",
      " #   Column                                 Non-Null Count   Dtype  \n",
      "---  ------                                 --------------   -----  \n",
      " 0   city                                   209391 non-null  object \n",
      " 1   attributes.GoodForMeal                 35182 non-null   object \n",
      " 2   attributes.Smoking                     4270 non-null    object \n",
      " 3   attributes.BusinessAcceptsBitcoin      16532 non-null   object \n",
      " 4   address                                200714 non-null  object \n",
      " 5   attributes.BYOBCorkage                 1425 non-null    object \n",
      " 6   attributes.WheelchairAccessible        28635 non-null   object \n",
      " 7   attributes.RestaurantsDelivery         56679 non-null   object \n",
      " 8   state                                  209393 non-null  object \n",
      " 9   attributes.OutdoorSeating              58441 non-null   object \n",
      " 10  attributes.HasTV                       53388 non-null   object \n",
      " 11  attributes.Alcohol                     50838 non-null   object \n",
      " 12  attributes.DogsAllowed                 17539 non-null   object \n",
      " 13  attributes.GoodForDancing              5186 non-null    object \n",
      " 14  hours.Sunday                           102117 non-null  object \n",
      " 15  attributes.AgesAllowed                 136 non-null     object \n",
      " 16  attributes.RestaurantsTakeOut          66301 non-null   object \n",
      " 17  attributes.BestNights                  5483 non-null    object \n",
      " 18  attributes.Open24Hours                 14 non-null      object \n",
      " 19  hours.Saturday                         139579 non-null  object \n",
      " 20  stars                                  209393 non-null  float64\n",
      " 21  attributes.RestaurantsPriceRange2      111288 non-null  object \n",
      " 22  attributes.BYOB                        740 non-null     object \n",
      " 23  attributes.Music                       7912 non-null    object \n",
      " 24  attributes.WiFi                        65331 non-null   object \n",
      " 25  attributes.RestaurantsGoodForGroups    56162 non-null   object \n",
      " 26  attributes.DietaryRestrictions         61 non-null      object \n",
      " 27  is_open                                209393 non-null  int64  \n",
      " 28  attributes.BikeParking                 89765 non-null   object \n",
      " 29  latitude                               209393 non-null  float64\n",
      " 30  longitude                              209393 non-null  float64\n",
      " 31  attributes.HappyHour                   15324 non-null   object \n",
      " 32  postal_code                            208884 non-null  object \n",
      " 33  name                                   209392 non-null  object \n",
      " 34  attributes.ByAppointmentOnly           60799 non-null   object \n",
      " 35  attributes.HairSpecializesIn           1260 non-null    object \n",
      " 36  attributes.RestaurantsAttire           49567 non-null   object \n",
      " 37  categories                             208869 non-null  object \n",
      " 38  attributes.Corkage                     1090 non-null    object \n",
      " 39  attributes.RestaurantsReservations     55361 non-null   object \n",
      " 40  attributes.AcceptsInsurance            8660 non-null    object \n",
      " 41  business_id                            209393 non-null  object \n",
      " 42  attributes.DriveThru                   4282 non-null    object \n",
      " 43  hours.Thursday                         162281 non-null  object \n",
      " 44  attributes.Ambience                    53806 non-null   object \n",
      " 45  attributes.NoiseLevel                  46559 non-null   object \n",
      " 46  hours.Wednesday                        161491 non-null  object \n",
      " 47  review_count                           209393 non-null  int64  \n",
      " 48  attributes                             180348 non-null  object \n",
      " 49  attributes.RestaurantsCounterService   13 non-null      object \n",
      " 50  attributes.Caters                      43969 non-null   object \n",
      " 51  attributes.GoodForKids                 68535 non-null   object \n",
      " 52  hours.Tuesday                          159636 non-null  object \n",
      " 53  attributes.BusinessParking             115215 non-null  object \n",
      " 54  hours.Monday                           151872 non-null  object \n",
      " 55  attributes.CoatCheck                   4909 non-null    object \n",
      " 56  hours                                  164550 non-null  object \n",
      " 57  hours.Friday                           161515 non-null  object \n",
      " 58  attributes.BusinessAcceptsCreditCards  122237 non-null  object \n",
      " 59  attributes.RestaurantsTableService     20785 non-null   object \n",
      "dtypes: float64(3), int64(2), object(55)\n",
      "memory usage: 95.9+ MB\n"
     ]
    }
   ],
   "source": [
    "# Load data\n",
    "\n",
    "# business_data = pd.read_json('business.json', lines=True)\n",
    "\n",
    "business = pd.read_csv('business.csv')\n",
    "business.info()"
   ]
  },
  {
   "cell_type": "code",
   "execution_count": 3,
   "id": "decimal-procurement",
   "metadata": {},
   "outputs": [
    {
     "data": {
      "text/html": [
       "<div>\n",
       "<style scoped>\n",
       "    .dataframe tbody tr th:only-of-type {\n",
       "        vertical-align: middle;\n",
       "    }\n",
       "\n",
       "    .dataframe tbody tr th {\n",
       "        vertical-align: top;\n",
       "    }\n",
       "\n",
       "    .dataframe thead th {\n",
       "        text-align: right;\n",
       "    }\n",
       "</style>\n",
       "<table border=\"1\" class=\"dataframe\">\n",
       "  <thead>\n",
       "    <tr style=\"text-align: right;\">\n",
       "      <th></th>\n",
       "      <th>city</th>\n",
       "      <th>attributes.GoodForMeal</th>\n",
       "      <th>attributes.Smoking</th>\n",
       "      <th>attributes.BusinessAcceptsBitcoin</th>\n",
       "      <th>address</th>\n",
       "      <th>attributes.BYOBCorkage</th>\n",
       "      <th>attributes.WheelchairAccessible</th>\n",
       "      <th>attributes.RestaurantsDelivery</th>\n",
       "      <th>state</th>\n",
       "      <th>attributes.OutdoorSeating</th>\n",
       "      <th>...</th>\n",
       "      <th>attributes.Caters</th>\n",
       "      <th>attributes.GoodForKids</th>\n",
       "      <th>hours.Tuesday</th>\n",
       "      <th>attributes.BusinessParking</th>\n",
       "      <th>hours.Monday</th>\n",
       "      <th>attributes.CoatCheck</th>\n",
       "      <th>hours</th>\n",
       "      <th>hours.Friday</th>\n",
       "      <th>attributes.BusinessAcceptsCreditCards</th>\n",
       "      <th>attributes.RestaurantsTableService</th>\n",
       "    </tr>\n",
       "  </thead>\n",
       "  <tbody>\n",
       "    <tr>\n",
       "      <th>0</th>\n",
       "      <td>Cornelius</td>\n",
       "      <td>NaN</td>\n",
       "      <td>NaN</td>\n",
       "      <td>NaN</td>\n",
       "      <td>10913 Bailey Rd</td>\n",
       "      <td>NaN</td>\n",
       "      <td>NaN</td>\n",
       "      <td>NaN</td>\n",
       "      <td>NC</td>\n",
       "      <td>NaN</td>\n",
       "      <td>...</td>\n",
       "      <td>NaN</td>\n",
       "      <td>False</td>\n",
       "      <td>11:0-20:0</td>\n",
       "      <td>{'garage': False, 'street': False, 'validated'...</td>\n",
       "      <td>10:0-18:0</td>\n",
       "      <td>NaN</td>\n",
       "      <td>{'Monday': '10:0-18:0', 'Tuesday': '11:0-20:0'...</td>\n",
       "      <td>11:0-20:0</td>\n",
       "      <td>True</td>\n",
       "      <td>NaN</td>\n",
       "    </tr>\n",
       "    <tr>\n",
       "      <th>1</th>\n",
       "      <td>Scottsdale</td>\n",
       "      <td>NaN</td>\n",
       "      <td>NaN</td>\n",
       "      <td>NaN</td>\n",
       "      <td>8880 E Via Linda, Ste 107</td>\n",
       "      <td>NaN</td>\n",
       "      <td>NaN</td>\n",
       "      <td>NaN</td>\n",
       "      <td>AZ</td>\n",
       "      <td>NaN</td>\n",
       "      <td>...</td>\n",
       "      <td>NaN</td>\n",
       "      <td>True</td>\n",
       "      <td>NaN</td>\n",
       "      <td>NaN</td>\n",
       "      <td>NaN</td>\n",
       "      <td>NaN</td>\n",
       "      <td>NaN</td>\n",
       "      <td>NaN</td>\n",
       "      <td>NaN</td>\n",
       "      <td>NaN</td>\n",
       "    </tr>\n",
       "    <tr>\n",
       "      <th>2</th>\n",
       "      <td>Montreal</td>\n",
       "      <td>NaN</td>\n",
       "      <td>NaN</td>\n",
       "      <td>NaN</td>\n",
       "      <td>3554 Rue Notre-Dame O</td>\n",
       "      <td>NaN</td>\n",
       "      <td>NaN</td>\n",
       "      <td>NaN</td>\n",
       "      <td>QC</td>\n",
       "      <td>NaN</td>\n",
       "      <td>...</td>\n",
       "      <td>NaN</td>\n",
       "      <td>NaN</td>\n",
       "      <td>NaN</td>\n",
       "      <td>NaN</td>\n",
       "      <td>NaN</td>\n",
       "      <td>NaN</td>\n",
       "      <td>NaN</td>\n",
       "      <td>NaN</td>\n",
       "      <td>NaN</td>\n",
       "      <td>NaN</td>\n",
       "    </tr>\n",
       "    <tr>\n",
       "      <th>3</th>\n",
       "      <td>North Las Vegas</td>\n",
       "      <td>NaN</td>\n",
       "      <td>NaN</td>\n",
       "      <td>NaN</td>\n",
       "      <td>1015 Sharp Cir</td>\n",
       "      <td>NaN</td>\n",
       "      <td>NaN</td>\n",
       "      <td>NaN</td>\n",
       "      <td>NV</td>\n",
       "      <td>NaN</td>\n",
       "      <td>...</td>\n",
       "      <td>NaN</td>\n",
       "      <td>NaN</td>\n",
       "      <td>7:0-16:0</td>\n",
       "      <td>{'garage': False, 'street': False, 'validated'...</td>\n",
       "      <td>7:0-16:0</td>\n",
       "      <td>NaN</td>\n",
       "      <td>{'Monday': '7:0-16:0', 'Tuesday': '7:0-16:0', ...</td>\n",
       "      <td>7:0-16:0</td>\n",
       "      <td>True</td>\n",
       "      <td>NaN</td>\n",
       "    </tr>\n",
       "    <tr>\n",
       "      <th>4</th>\n",
       "      <td>Mesa</td>\n",
       "      <td>NaN</td>\n",
       "      <td>NaN</td>\n",
       "      <td>NaN</td>\n",
       "      <td>4827 E Downing Cir</td>\n",
       "      <td>NaN</td>\n",
       "      <td>NaN</td>\n",
       "      <td>NaN</td>\n",
       "      <td>AZ</td>\n",
       "      <td>NaN</td>\n",
       "      <td>...</td>\n",
       "      <td>NaN</td>\n",
       "      <td>NaN</td>\n",
       "      <td>9:0-16:0</td>\n",
       "      <td>NaN</td>\n",
       "      <td>0:0-0:0</td>\n",
       "      <td>NaN</td>\n",
       "      <td>{'Monday': '0:0-0:0', 'Tuesday': '9:0-16:0', '...</td>\n",
       "      <td>9:0-16:0</td>\n",
       "      <td>True</td>\n",
       "      <td>NaN</td>\n",
       "    </tr>\n",
       "  </tbody>\n",
       "</table>\n",
       "<p>5 rows × 60 columns</p>\n",
       "</div>"
      ],
      "text/plain": [
       "              city attributes.GoodForMeal attributes.Smoking  \\\n",
       "0        Cornelius                    NaN                NaN   \n",
       "1       Scottsdale                    NaN                NaN   \n",
       "2         Montreal                    NaN                NaN   \n",
       "3  North Las Vegas                    NaN                NaN   \n",
       "4             Mesa                    NaN                NaN   \n",
       "\n",
       "  attributes.BusinessAcceptsBitcoin                    address  \\\n",
       "0                               NaN            10913 Bailey Rd   \n",
       "1                               NaN  8880 E Via Linda, Ste 107   \n",
       "2                               NaN      3554 Rue Notre-Dame O   \n",
       "3                               NaN             1015 Sharp Cir   \n",
       "4                               NaN         4827 E Downing Cir   \n",
       "\n",
       "  attributes.BYOBCorkage attributes.WheelchairAccessible  \\\n",
       "0                    NaN                             NaN   \n",
       "1                    NaN                             NaN   \n",
       "2                    NaN                             NaN   \n",
       "3                    NaN                             NaN   \n",
       "4                    NaN                             NaN   \n",
       "\n",
       "  attributes.RestaurantsDelivery state attributes.OutdoorSeating  ...  \\\n",
       "0                            NaN    NC                       NaN  ...   \n",
       "1                            NaN    AZ                       NaN  ...   \n",
       "2                            NaN    QC                       NaN  ...   \n",
       "3                            NaN    NV                       NaN  ...   \n",
       "4                            NaN    AZ                       NaN  ...   \n",
       "\n",
       "  attributes.Caters attributes.GoodForKids hours.Tuesday  \\\n",
       "0               NaN                  False     11:0-20:0   \n",
       "1               NaN                   True           NaN   \n",
       "2               NaN                    NaN           NaN   \n",
       "3               NaN                    NaN      7:0-16:0   \n",
       "4               NaN                    NaN      9:0-16:0   \n",
       "\n",
       "                          attributes.BusinessParking hours.Monday  \\\n",
       "0  {'garage': False, 'street': False, 'validated'...    10:0-18:0   \n",
       "1                                                NaN          NaN   \n",
       "2                                                NaN          NaN   \n",
       "3  {'garage': False, 'street': False, 'validated'...     7:0-16:0   \n",
       "4                                                NaN      0:0-0:0   \n",
       "\n",
       "  attributes.CoatCheck                                              hours  \\\n",
       "0                  NaN  {'Monday': '10:0-18:0', 'Tuesday': '11:0-20:0'...   \n",
       "1                  NaN                                                NaN   \n",
       "2                  NaN                                                NaN   \n",
       "3                  NaN  {'Monday': '7:0-16:0', 'Tuesday': '7:0-16:0', ...   \n",
       "4                  NaN  {'Monday': '0:0-0:0', 'Tuesday': '9:0-16:0', '...   \n",
       "\n",
       "  hours.Friday attributes.BusinessAcceptsCreditCards  \\\n",
       "0    11:0-20:0                                  True   \n",
       "1          NaN                                   NaN   \n",
       "2          NaN                                   NaN   \n",
       "3     7:0-16:0                                  True   \n",
       "4     9:0-16:0                                  True   \n",
       "\n",
       "  attributes.RestaurantsTableService  \n",
       "0                                NaN  \n",
       "1                                NaN  \n",
       "2                                NaN  \n",
       "3                                NaN  \n",
       "4                                NaN  \n",
       "\n",
       "[5 rows x 60 columns]"
      ]
     },
     "execution_count": 3,
     "metadata": {},
     "output_type": "execute_result"
    }
   ],
   "source": [
    "# DF Information \n",
    "\n",
    "business.head()"
   ]
  },
  {
   "cell_type": "code",
   "execution_count": 4,
   "id": "aware-tampa",
   "metadata": {},
   "outputs": [
    {
     "data": {
      "text/plain": [
       "array(['NC', 'AZ', 'QC', 'NV', 'IL', 'ON', 'AB', 'PA', 'WI', 'SC', 'OH',\n",
       "       'CA', 'TX', 'NY', 'CO', 'XWY', 'GA', 'BC', 'YT', 'HPL', 'AL', 'UT',\n",
       "       'VT', 'WA', 'NE', 'DOW', 'MI', 'FL', 'AR', 'HI', 'MB', 'OR', 'AK',\n",
       "       'VA', 'CT', 'MO', 'DUR'], dtype=object)"
      ]
     },
     "execution_count": 4,
     "metadata": {},
     "output_type": "execute_result"
    }
   ],
   "source": [
    "# Get 'states' information\n",
    "\n",
    "business.state.unique()"
   ]
  },
  {
   "cell_type": "code",
   "execution_count": 5,
   "id": "neural-sweden",
   "metadata": {},
   "outputs": [],
   "source": [
    "# Consider only US states\n",
    "\n",
    "us_states = ['AL','AK','AR','AS','AZ','CA','CO','CT','DC','DE','FL','FM','GA','GU','HI','IA','ID','IL','IN','KS','KY','LA','MA','MD','ME','MH','MI','MN','MO','MS','MT','NC','ND','NE','NH','NJ','NM','NV','NY','MP','OH','OK','OR','PA','PR','PW','RI','SC','SD','TN','TX','UT','VA','VI','VT','WA','WI','WV','WY']"
   ]
  },
  {
   "cell_type": "code",
   "execution_count": 6,
   "id": "alleged-accommodation",
   "metadata": {},
   "outputs": [
    {
     "data": {
      "text/plain": [
       "208869"
      ]
     },
     "execution_count": 6,
     "metadata": {},
     "output_type": "execute_result"
    }
   ],
   "source": [
    "# Clean data by removing null \n",
    "\n",
    "business = business[business.categories.notnull()]\n",
    "len(business)"
   ]
  },
  {
   "cell_type": "code",
   "execution_count": 7,
   "id": "banned-punishment",
   "metadata": {},
   "outputs": [],
   "source": [
    "# Extract categories\n",
    "\n",
    "category = defaultdict(int)\n",
    "\n",
    "for idx, row in business.iterrows():\n",
    "    if row['categories'] is not np.nan: \n",
    "        data = row['categories'].split(',')\n",
    "        for entry in data: \n",
    "            entry = entry.strip().lower()\n",
    "            category[entry] += 1"
   ]
  },
  {
   "cell_type": "code",
   "execution_count": 8,
   "id": "ongoing-riverside",
   "metadata": {},
   "outputs": [
    {
     "name": "stdout",
     "output_type": "stream",
     "text": [
      "1336\n",
      "[('restaurants', 63944), ('shopping', 34644), ('food', 32991), ('home services', 22487), ('beauty & spas', 20520), ('health & medical', 19227), ('local services', 15783), ('automotive', 14720), ('nightlife', 14211), ('bars', 12400), ('event planning & services', 11263), ('active life', 10225), ('coffee & tea', 8415), ('fashion', 8374), ('fast food', 8106), ('sandwiches', 8064), ('american (traditional)', 7596), ('home & garden', 7331), ('hair salons', 7303), ('pizza', 7302)]\n"
     ]
    }
   ],
   "source": [
    "category_sorted = sorted(category.items(), key=lambda x: x[1], reverse=True)\n",
    "print(len(category))\n",
    "print(category_sorted[:20])"
   ]
  },
  {
   "cell_type": "code",
   "execution_count": 9,
   "id": "protective-pierre",
   "metadata": {},
   "outputs": [],
   "source": [
    "# Apply filters for states and categories\n",
    "# Reduced to 153579 by 26% after US states and then restaurant related to 44202 reduced by 78% overall based on non- null data\n",
    "\n",
    "business = business[(business.postal_code.astype(str).apply(len) == 5) & (business.state.isin(us_states)) & \n",
    "                    ((business.categories.str.contains('restaurant', case=False)) |\n",
    "                     (business.categories.str.contains('bar', case=False)) | \n",
    "                     (business.categories.str.contains('nightlife', case=False)))]"
   ]
  },
  {
   "cell_type": "code",
   "execution_count": 10,
   "id": "charming-outdoors",
   "metadata": {},
   "outputs": [
    {
     "data": {
      "text/plain": [
       "array(['IL', 'NC', 'AZ', 'NV', 'OH', 'PA', 'SC', 'WI', 'TX', 'CO', 'NY',\n",
       "       'FL', 'VT', 'AR', 'HI', 'OR', 'WA', 'AK', 'CA', 'VA', 'NE'],\n",
       "      dtype=object)"
      ]
     },
     "execution_count": 10,
     "metadata": {},
     "output_type": "execute_result"
    }
   ],
   "source": [
    "# Confirm data contains only US states\n",
    "\n",
    "business.state.unique()"
   ]
  },
  {
   "cell_type": "code",
   "execution_count": 11,
   "id": "mental-brooks",
   "metadata": {},
   "outputs": [],
   "source": [
    "# Extract cuisine and style from 'categories' column information \n",
    "\n",
    "cuisines = ['american (new)', 'american (traditional)', 'asian fusion', 'bagels', 'bakeries', \n",
    "            'barbeque', 'beer', 'bubble tea', 'burgers', 'cajun', 'chicken wings', 'chinese', \n",
    "            'coffee & tea', 'cupcakes', 'custom cakes', 'desserts', 'donuts', 'ethnic food', \n",
    "            'french', 'gluten-free', 'greek', 'hawaiian', 'hot dogs', 'ice cream & frozen yogurt', \n",
    "            'indian', 'italian', 'japanese', 'korean', 'latin american', 'local flavor', 'mediterranean', \n",
    "            'mexican', 'middle eastern', 'pizza', 'salad', 'sandwiches', 'seafood', 'shaved ice', 'soup', \n",
    "            'southern', 'specialty food', 'steakhouse', 'sushi bars', 'tacos', 'tapas/small plates', 'tex-mex', \n",
    "            'thai', 'vegan', 'vegetarian', 'vietnamese', 'wine & spirits']\n",
    "\n",
    "styles = ['bars', 'beer bars', 'breakfast & brunch', 'breweries', 'buffets', 'cafes', 'casinos', \n",
    "          'caterers', 'cocktail bars', 'dance clubs', 'delis', 'diners', 'dive bars', 'fast food', \n",
    "          'food delivery services', 'food stands', 'food trucks', 'juice bars & smoothies', 'lounges', \n",
    "          'music venues', 'nightlife', 'performing arts', 'pubs', 'restaurants', 'sports bars', 'street vendors', \n",
    "          'wine bars']\n",
    "\n",
    "# Create new columns\n",
    "business['cuisine'] = None\n",
    "business['style'] = None\n",
    "\n",
    "\n",
    "for idx, row in business.iterrows():\n",
    "    if row['categories'] is not np.nan:\n",
    "        cuisine_list = row['categories'].split(',')\n",
    "        #print(cuisine_list)\n",
    "        for i in cuisine_list:\n",
    "            i = i.strip().lower()\n",
    "            # print(i)\n",
    "            if i in cuisines:\n",
    "                # print('cuisine')\n",
    "                if business.loc[idx, 'cuisine'] == None:\n",
    "                    business.loc[idx, 'cuisine'] = i\n",
    "                else:\n",
    "                    business.loc[idx, 'cuisine'] += (',' + i)\n",
    "                #print(business['cuisine'])\n",
    "                \n",
    "            elif i in styles:\n",
    "                # print('style')\n",
    "                if business.loc[idx, 'style'] == None:\n",
    "                    business.loc[idx, 'style'] = i\n",
    "                else:\n",
    "                    business.loc[idx, 'style'] += (',' + i)\n",
    "                #print(business['style'])"
   ]
  },
  {
   "cell_type": "code",
   "execution_count": 12,
   "id": "genuine-sympathy",
   "metadata": {},
   "outputs": [
    {
     "data": {
      "text/plain": [
       "city                                         0\n",
       "attributes.GoodForMeal                   21890\n",
       "attributes.Smoking                       41299\n",
       "attributes.BusinessAcceptsBitcoin        39081\n",
       "address                                    505\n",
       "                                         ...  \n",
       "hours.Friday                              8792\n",
       "attributes.BusinessAcceptsCreditCards     3359\n",
       "attributes.RestaurantsTableService       31203\n",
       "cuisine                                   7946\n",
       "style                                     1930\n",
       "Length: 62, dtype: int64"
      ]
     },
     "execution_count": 12,
     "metadata": {},
     "output_type": "execute_result"
    }
   ],
   "source": [
    "# Update None with NaN\n",
    "# Reset index\n",
    "# check NaN\n",
    "\n",
    "business.fillna(value=np.nan, inplace=True)\n",
    "business.reset_index(drop=True, inplace=True)\n",
    "business.isnull().sum()"
   ]
  },
  {
   "cell_type": "markdown",
   "id": "alert-salem",
   "metadata": {},
   "source": [
    "## Summary of 'business dataframe'"
   ]
  },
  {
   "cell_type": "markdown",
   "id": "scenic-flush",
   "metadata": {},
   "source": [
    "1. `business_id`: No NaN, 22 character length, case-sensitive corresponds to `business_id` in user dataframe\n",
    "2. `name`, `address`, `city`, `state`, `postal_code`, `latitude`, `longitude`, `review_count`: No NaN\n",
    "3. `stars`: No NaN, ratings take value 1(1%), 1.5(2.5%), 2(6%), 2.5(10%), 3(16.5%), 3.5(22%), 4(24%), 4.5(14%), 5(4%)\n",
    "5. `is_open`: No NaN, 0 for closed(31%), 1 for open(69%)\n",
    "6. `attributes`: 1.6% NaN with subattributes in nested dict\n",
    "7. `categories`: No NaN, describes cusine or style\n",
    "8. `hours`: 20% NaN\n",
    "9. `cuisine`: 18% NaN, represents cuisines\n",
    "10. `style`: 5% NaN, represents styles"
   ]
  },
  {
   "cell_type": "markdown",
   "id": "greek-yesterday",
   "metadata": {},
   "source": [
    "# `Checkin Dataset`"
   ]
  },
  {
   "cell_type": "code",
   "execution_count": 13,
   "id": "dental-entertainment",
   "metadata": {},
   "outputs": [
    {
     "name": "stdout",
     "output_type": "stream",
     "text": [
      "<class 'pandas.core.frame.DataFrame'>\n",
      "RangeIndex: 175187 entries, 0 to 175186\n",
      "Data columns (total 2 columns):\n",
      " #   Column       Non-Null Count   Dtype \n",
      "---  ------       --------------   ----- \n",
      " 0   date         175187 non-null  object\n",
      " 1   business_id  175187 non-null  object\n",
      "dtypes: object(2)\n",
      "memory usage: 2.7+ MB\n"
     ]
    }
   ],
   "source": [
    "# Load data\n",
    "\n",
    "# checkin_data = pd.read_json('checkin.json', lines=True)\n",
    "checkin = pd.read_csv('checkin.csv')\n",
    "checkin.info()"
   ]
  },
  {
   "cell_type": "code",
   "execution_count": 14,
   "id": "further-compression",
   "metadata": {},
   "outputs": [
    {
     "data": {
      "text/html": [
       "<div>\n",
       "<style scoped>\n",
       "    .dataframe tbody tr th:only-of-type {\n",
       "        vertical-align: middle;\n",
       "    }\n",
       "\n",
       "    .dataframe tbody tr th {\n",
       "        vertical-align: top;\n",
       "    }\n",
       "\n",
       "    .dataframe thead th {\n",
       "        text-align: right;\n",
       "    }\n",
       "</style>\n",
       "<table border=\"1\" class=\"dataframe\">\n",
       "  <thead>\n",
       "    <tr style=\"text-align: right;\">\n",
       "      <th></th>\n",
       "      <th>date</th>\n",
       "      <th>business_id</th>\n",
       "    </tr>\n",
       "  </thead>\n",
       "  <tbody>\n",
       "    <tr>\n",
       "      <th>0</th>\n",
       "      <td>2016-04-26 19:49:16, 2016-08-30 18:36:57, 2016...</td>\n",
       "      <td>--1UhMGODdWsrMastO9DZw</td>\n",
       "    </tr>\n",
       "    <tr>\n",
       "      <th>1</th>\n",
       "      <td>2011-06-04 18:22:23, 2011-07-23 23:51:33, 2012...</td>\n",
       "      <td>--6MefnULPED_I942VcFNA</td>\n",
       "    </tr>\n",
       "    <tr>\n",
       "      <th>2</th>\n",
       "      <td>2014-12-29 19:25:50, 2015-01-17 01:49:14, 2015...</td>\n",
       "      <td>--7zmmkVg-IMGaXbuVd0SQ</td>\n",
       "    </tr>\n",
       "    <tr>\n",
       "      <th>3</th>\n",
       "      <td>2016-07-08 16:43:30</td>\n",
       "      <td>--8LPVSo5i0Oo61X01sV9A</td>\n",
       "    </tr>\n",
       "    <tr>\n",
       "      <th>4</th>\n",
       "      <td>2010-06-26 17:39:07, 2010-08-01 20:06:21, 2010...</td>\n",
       "      <td>--9QQLMTbFzLJ_oT-ON3Xw</td>\n",
       "    </tr>\n",
       "  </tbody>\n",
       "</table>\n",
       "</div>"
      ],
      "text/plain": [
       "                                                date             business_id\n",
       "0  2016-04-26 19:49:16, 2016-08-30 18:36:57, 2016...  --1UhMGODdWsrMastO9DZw\n",
       "1  2011-06-04 18:22:23, 2011-07-23 23:51:33, 2012...  --6MefnULPED_I942VcFNA\n",
       "2  2014-12-29 19:25:50, 2015-01-17 01:49:14, 2015...  --7zmmkVg-IMGaXbuVd0SQ\n",
       "3                                2016-07-08 16:43:30  --8LPVSo5i0Oo61X01sV9A\n",
       "4  2010-06-26 17:39:07, 2010-08-01 20:06:21, 2010...  --9QQLMTbFzLJ_oT-ON3Xw"
      ]
     },
     "execution_count": 14,
     "metadata": {},
     "output_type": "execute_result"
    }
   ],
   "source": [
    "# DF information\n",
    "\n",
    "checkin.head()"
   ]
  },
  {
   "cell_type": "code",
   "execution_count": 15,
   "id": "flexible-transsexual",
   "metadata": {},
   "outputs": [],
   "source": [
    "# Convert date column to string and count checkins\n",
    "\n",
    "checkin['checkin_count'] = checkin['date'].astype(str).str.len()"
   ]
  },
  {
   "cell_type": "code",
   "execution_count": 16,
   "id": "plain-flesh",
   "metadata": {},
   "outputs": [
    {
     "data": {
      "text/plain": [
       "date             0\n",
       "business_id      0\n",
       "checkin_count    0\n",
       "dtype: int64"
      ]
     },
     "execution_count": 16,
     "metadata": {},
     "output_type": "execute_result"
    }
   ],
   "source": [
    "# Check NaN\n",
    "\n",
    "checkin.isnull().sum()"
   ]
  },
  {
   "cell_type": "code",
   "execution_count": 17,
   "id": "bridal-fitness",
   "metadata": {},
   "outputs": [
    {
     "data": {
      "text/plain": [
       "175187"
      ]
     },
     "execution_count": 17,
     "metadata": {},
     "output_type": "execute_result"
    }
   ],
   "source": [
    "# Check duplicates\n",
    "\n",
    "len(checkin['business_id'].unique())"
   ]
  },
  {
   "cell_type": "markdown",
   "id": "systematic-phone",
   "metadata": {},
   "source": [
    "## Summary of 'checkin dataframe'"
   ]
  },
  {
   "cell_type": "markdown",
   "id": "wicked-liverpool",
   "metadata": {},
   "source": [
    "1. `business_id`: No NaN, unique ids, 22 characters\n",
    "2. `date`: No NaN, nested dictionaries representing checkins\n",
    "3. `checkin_count`: No NaN, total number of checkins ranging from 19 to 3185089"
   ]
  },
  {
   "cell_type": "markdown",
   "id": "civil-render",
   "metadata": {},
   "source": [
    "# `Review Dataset`"
   ]
  },
  {
   "cell_type": "code",
   "execution_count": 18,
   "id": "russian-fluid",
   "metadata": {},
   "outputs": [
    {
     "name": "stdout",
     "output_type": "stream",
     "text": [
      "<class 'pandas.core.frame.DataFrame'>\n",
      "RangeIndex: 8021122 entries, 0 to 8021121\n",
      "Data columns (total 9 columns):\n",
      " #   Column       Dtype  \n",
      "---  ------       -----  \n",
      " 0   date         object \n",
      " 1   review_id    object \n",
      " 2   user_id      object \n",
      " 3   useful       int64  \n",
      " 4   funny        int64  \n",
      " 5   text         object \n",
      " 6   business_id  object \n",
      " 7   stars        float64\n",
      " 8   cool         int64  \n",
      "dtypes: float64(1), int64(3), object(5)\n",
      "memory usage: 550.8+ MB\n"
     ]
    }
   ],
   "source": [
    "# Load data\n",
    "\n",
    "# review_data = pd.read_json('review.json', lines=True)\n",
    "review = pd.read_csv('review.csv')\n",
    "review.info()"
   ]
  },
  {
   "cell_type": "code",
   "execution_count": 19,
   "id": "eligible-editor",
   "metadata": {},
   "outputs": [
    {
     "data": {
      "text/html": [
       "<div>\n",
       "<style scoped>\n",
       "    .dataframe tbody tr th:only-of-type {\n",
       "        vertical-align: middle;\n",
       "    }\n",
       "\n",
       "    .dataframe tbody tr th {\n",
       "        vertical-align: top;\n",
       "    }\n",
       "\n",
       "    .dataframe thead th {\n",
       "        text-align: right;\n",
       "    }\n",
       "</style>\n",
       "<table border=\"1\" class=\"dataframe\">\n",
       "  <thead>\n",
       "    <tr style=\"text-align: right;\">\n",
       "      <th></th>\n",
       "      <th>date</th>\n",
       "      <th>review_id</th>\n",
       "      <th>user_id</th>\n",
       "      <th>useful</th>\n",
       "      <th>funny</th>\n",
       "      <th>text</th>\n",
       "      <th>business_id</th>\n",
       "      <th>stars</th>\n",
       "      <th>cool</th>\n",
       "    </tr>\n",
       "  </thead>\n",
       "  <tbody>\n",
       "    <tr>\n",
       "      <th>0</th>\n",
       "      <td>2015-04-15 05:21:16</td>\n",
       "      <td>xQY8N_XvtGbearJ5X4QryQ</td>\n",
       "      <td>OwjRMXRC0KyPrIlcjaXeFQ</td>\n",
       "      <td>5</td>\n",
       "      <td>0</td>\n",
       "      <td>As someone who has worked with many museums, I...</td>\n",
       "      <td>-MhfebM0QIsKt87iDN-FNw</td>\n",
       "      <td>2.0</td>\n",
       "      <td>0</td>\n",
       "    </tr>\n",
       "    <tr>\n",
       "      <th>1</th>\n",
       "      <td>2013-12-07 03:16:52</td>\n",
       "      <td>UmFMZ8PyXZTY2QcwzsfQYA</td>\n",
       "      <td>nIJD_7ZXHq-FX8byPMOkMQ</td>\n",
       "      <td>1</td>\n",
       "      <td>1</td>\n",
       "      <td>I am actually horrified this place is still in...</td>\n",
       "      <td>lbrU8StCq3yDfr-QMnGrmQ</td>\n",
       "      <td>1.0</td>\n",
       "      <td>0</td>\n",
       "    </tr>\n",
       "    <tr>\n",
       "      <th>2</th>\n",
       "      <td>2015-12-05 03:18:11</td>\n",
       "      <td>LG2ZaYiOgpr2DK_90pYjNw</td>\n",
       "      <td>V34qejxNsCbcgD8C0HVk-Q</td>\n",
       "      <td>1</td>\n",
       "      <td>0</td>\n",
       "      <td>I love Deagan's. I do. I really do. The atmosp...</td>\n",
       "      <td>HQl28KMwrEKHqhFrrDqVNQ</td>\n",
       "      <td>5.0</td>\n",
       "      <td>0</td>\n",
       "    </tr>\n",
       "    <tr>\n",
       "      <th>3</th>\n",
       "      <td>2011-05-27 05:30:52</td>\n",
       "      <td>i6g_oA9Yf9Y31qt0wibXpw</td>\n",
       "      <td>ofKDkJKXSKZXu5xJNGiiBQ</td>\n",
       "      <td>0</td>\n",
       "      <td>0</td>\n",
       "      <td>Dismal, lukewarm, defrosted-tasting \"TexMex\" g...</td>\n",
       "      <td>5JxlZaqCnk1MnbgRirs40Q</td>\n",
       "      <td>1.0</td>\n",
       "      <td>0</td>\n",
       "    </tr>\n",
       "    <tr>\n",
       "      <th>4</th>\n",
       "      <td>2017-01-14 21:56:57</td>\n",
       "      <td>6TdNDKywdbjoTkizeMce8A</td>\n",
       "      <td>UgMW8bLE0QMJDCkQ1Ax5Mg</td>\n",
       "      <td>0</td>\n",
       "      <td>0</td>\n",
       "      <td>Oh happy day, finally have a Canes near my cas...</td>\n",
       "      <td>IS4cv902ykd8wj1TR0N3-A</td>\n",
       "      <td>4.0</td>\n",
       "      <td>0</td>\n",
       "    </tr>\n",
       "  </tbody>\n",
       "</table>\n",
       "</div>"
      ],
      "text/plain": [
       "                  date               review_id                 user_id  \\\n",
       "0  2015-04-15 05:21:16  xQY8N_XvtGbearJ5X4QryQ  OwjRMXRC0KyPrIlcjaXeFQ   \n",
       "1  2013-12-07 03:16:52  UmFMZ8PyXZTY2QcwzsfQYA  nIJD_7ZXHq-FX8byPMOkMQ   \n",
       "2  2015-12-05 03:18:11  LG2ZaYiOgpr2DK_90pYjNw  V34qejxNsCbcgD8C0HVk-Q   \n",
       "3  2011-05-27 05:30:52  i6g_oA9Yf9Y31qt0wibXpw  ofKDkJKXSKZXu5xJNGiiBQ   \n",
       "4  2017-01-14 21:56:57  6TdNDKywdbjoTkizeMce8A  UgMW8bLE0QMJDCkQ1Ax5Mg   \n",
       "\n",
       "   useful  funny                                               text  \\\n",
       "0       5      0  As someone who has worked with many museums, I...   \n",
       "1       1      1  I am actually horrified this place is still in...   \n",
       "2       1      0  I love Deagan's. I do. I really do. The atmosp...   \n",
       "3       0      0  Dismal, lukewarm, defrosted-tasting \"TexMex\" g...   \n",
       "4       0      0  Oh happy day, finally have a Canes near my cas...   \n",
       "\n",
       "              business_id  stars  cool  \n",
       "0  -MhfebM0QIsKt87iDN-FNw    2.0     0  \n",
       "1  lbrU8StCq3yDfr-QMnGrmQ    1.0     0  \n",
       "2  HQl28KMwrEKHqhFrrDqVNQ    5.0     0  \n",
       "3  5JxlZaqCnk1MnbgRirs40Q    1.0     0  \n",
       "4  IS4cv902ykd8wj1TR0N3-A    4.0     0  "
      ]
     },
     "execution_count": 19,
     "metadata": {},
     "output_type": "execute_result"
    }
   ],
   "source": [
    "# DF information\n",
    "\n",
    "review.head()"
   ]
  },
  {
   "cell_type": "code",
   "execution_count": 20,
   "id": "julian-connection",
   "metadata": {},
   "outputs": [],
   "source": [
    "# Convert text column to string\n",
    "\n",
    "review['text'] = review['text'].astype(str)"
   ]
  },
  {
   "cell_type": "code",
   "execution_count": 21,
   "id": "ceramic-passing",
   "metadata": {},
   "outputs": [],
   "source": [
    "# Replace -ve value \n",
    "\n",
    "review.loc[6543215, ['cool', 'useful']] = 0"
   ]
  },
  {
   "cell_type": "code",
   "execution_count": 22,
   "id": "sustainable-information",
   "metadata": {},
   "outputs": [
    {
     "data": {
      "text/plain": [
       "date           0\n",
       "review_id      0\n",
       "user_id        0\n",
       "useful         0\n",
       "funny          0\n",
       "text           0\n",
       "business_id    0\n",
       "stars          0\n",
       "cool           0\n",
       "dtype: int64"
      ]
     },
     "execution_count": 22,
     "metadata": {},
     "output_type": "execute_result"
    }
   ],
   "source": [
    "# Check NaN\n",
    "\n",
    "review.isnull().sum()"
   ]
  },
  {
   "cell_type": "code",
   "execution_count": 23,
   "id": "friendly-infrared",
   "metadata": {},
   "outputs": [
    {
     "data": {
      "text/plain": [
       "8021122"
      ]
     },
     "execution_count": 23,
     "metadata": {},
     "output_type": "execute_result"
    }
   ],
   "source": [
    "# Check duplicates\n",
    "\n",
    "len(review['review_id'].unique())"
   ]
  },
  {
   "cell_type": "markdown",
   "id": "phantom-mother",
   "metadata": {},
   "source": [
    "## Summary of 'review dataframe'"
   ]
  },
  {
   "cell_type": "markdown",
   "id": "public-blade",
   "metadata": {},
   "source": [
    "1. `review_id`, `user_id`, `business_id`: No NaN, case sensitive, 22 characters\n",
    "2. `stars`: No NaN, star rating from 1 to 5\n",
    "3. `useful`: No NaN, useful votes for review from 0 to 1122\n",
    "4. `funny`: No NaN, funny votes for review from 0 to 976\n",
    "5. `cool`: No NaN, cool votes for review from o to 502\n",
    "6. `text`: No NaN, actual reviews strings\n",
    "7. `date`: No NaN, review date from 10/12/2004 to 12/13/2019"
   ]
  },
  {
   "cell_type": "markdown",
   "id": "pharmaceutical-piece",
   "metadata": {},
   "source": [
    "# `Tip Dataset`"
   ]
  },
  {
   "cell_type": "code",
   "execution_count": 24,
   "id": "federal-nickname",
   "metadata": {},
   "outputs": [
    {
     "name": "stdout",
     "output_type": "stream",
     "text": [
      "<class 'pandas.core.frame.DataFrame'>\n",
      "RangeIndex: 1320761 entries, 0 to 1320760\n",
      "Data columns (total 5 columns):\n",
      " #   Column            Non-Null Count    Dtype \n",
      "---  ------            --------------    ----- \n",
      " 0   date              1320761 non-null  object\n",
      " 1   user_id           1320761 non-null  object\n",
      " 2   compliment_count  1320761 non-null  int64 \n",
      " 3   text              1320753 non-null  object\n",
      " 4   business_id       1320761 non-null  object\n",
      "dtypes: int64(1), object(4)\n",
      "memory usage: 50.4+ MB\n"
     ]
    }
   ],
   "source": [
    "# Load data\n",
    "\n",
    "# tip_data = pd.read_json('tip.json', lines=True)\n",
    "tip = pd.read_csv('tip.csv')\n",
    "tip.info()"
   ]
  },
  {
   "cell_type": "code",
   "execution_count": 25,
   "id": "environmental-cabin",
   "metadata": {},
   "outputs": [
    {
     "data": {
      "text/html": [
       "<div>\n",
       "<style scoped>\n",
       "    .dataframe tbody tr th:only-of-type {\n",
       "        vertical-align: middle;\n",
       "    }\n",
       "\n",
       "    .dataframe tbody tr th {\n",
       "        vertical-align: top;\n",
       "    }\n",
       "\n",
       "    .dataframe thead th {\n",
       "        text-align: right;\n",
       "    }\n",
       "</style>\n",
       "<table border=\"1\" class=\"dataframe\">\n",
       "  <thead>\n",
       "    <tr style=\"text-align: right;\">\n",
       "      <th></th>\n",
       "      <th>date</th>\n",
       "      <th>user_id</th>\n",
       "      <th>compliment_count</th>\n",
       "      <th>text</th>\n",
       "      <th>business_id</th>\n",
       "    </tr>\n",
       "  </thead>\n",
       "  <tbody>\n",
       "    <tr>\n",
       "      <th>0</th>\n",
       "      <td>2013-11-26 18:20:08</td>\n",
       "      <td>hf27xTME3EiCp6NL6VtWZQ</td>\n",
       "      <td>0</td>\n",
       "      <td>Here for a quick mtg</td>\n",
       "      <td>UYX5zL_Xj9WEc_Wp-FrqHw</td>\n",
       "    </tr>\n",
       "    <tr>\n",
       "      <th>1</th>\n",
       "      <td>2014-06-15 22:26:45</td>\n",
       "      <td>uEvusDwoSymbJJ0auR3muQ</td>\n",
       "      <td>0</td>\n",
       "      <td>Cucumber strawberry refresher</td>\n",
       "      <td>Ch3HkwQYv1YKw_FO06vBWA</td>\n",
       "    </tr>\n",
       "    <tr>\n",
       "      <th>2</th>\n",
       "      <td>2016-07-18 22:03:42</td>\n",
       "      <td>AY-laIws3S7YXNl_f_D6rQ</td>\n",
       "      <td>0</td>\n",
       "      <td>Very nice good service good food</td>\n",
       "      <td>rDoT-MgxGRiYqCmi0bG10g</td>\n",
       "    </tr>\n",
       "    <tr>\n",
       "      <th>3</th>\n",
       "      <td>2014-06-06 01:10:34</td>\n",
       "      <td>Ue_7yUlkEbX4AhnYdUfL7g</td>\n",
       "      <td>0</td>\n",
       "      <td>It's a small place. The staff is friendly.</td>\n",
       "      <td>OHXnDV01gLokiX1ELaQufA</td>\n",
       "    </tr>\n",
       "    <tr>\n",
       "      <th>4</th>\n",
       "      <td>2011-04-08 18:12:01</td>\n",
       "      <td>LltbT_fUMqZ-ZJP-vJ84IQ</td>\n",
       "      <td>0</td>\n",
       "      <td>8 sandwiches, $24 total...what a bargain!!! An...</td>\n",
       "      <td>GMrwDXRlAZU2zj5nH6l4vQ</td>\n",
       "    </tr>\n",
       "  </tbody>\n",
       "</table>\n",
       "</div>"
      ],
      "text/plain": [
       "                  date                 user_id  compliment_count  \\\n",
       "0  2013-11-26 18:20:08  hf27xTME3EiCp6NL6VtWZQ                 0   \n",
       "1  2014-06-15 22:26:45  uEvusDwoSymbJJ0auR3muQ                 0   \n",
       "2  2016-07-18 22:03:42  AY-laIws3S7YXNl_f_D6rQ                 0   \n",
       "3  2014-06-06 01:10:34  Ue_7yUlkEbX4AhnYdUfL7g                 0   \n",
       "4  2011-04-08 18:12:01  LltbT_fUMqZ-ZJP-vJ84IQ                 0   \n",
       "\n",
       "                                                text             business_id  \n",
       "0                               Here for a quick mtg  UYX5zL_Xj9WEc_Wp-FrqHw  \n",
       "1                      Cucumber strawberry refresher  Ch3HkwQYv1YKw_FO06vBWA  \n",
       "2                   Very nice good service good food  rDoT-MgxGRiYqCmi0bG10g  \n",
       "3         It's a small place. The staff is friendly.  OHXnDV01gLokiX1ELaQufA  \n",
       "4  8 sandwiches, $24 total...what a bargain!!! An...  GMrwDXRlAZU2zj5nH6l4vQ  "
      ]
     },
     "execution_count": 25,
     "metadata": {},
     "output_type": "execute_result"
    }
   ],
   "source": [
    "# Df information\n",
    "\n",
    "tip.head()"
   ]
  },
  {
   "cell_type": "code",
   "execution_count": 26,
   "id": "permanent-courtesy",
   "metadata": {},
   "outputs": [
    {
     "data": {
      "text/plain": [
       "date                0\n",
       "user_id             0\n",
       "compliment_count    0\n",
       "text                8\n",
       "business_id         0\n",
       "dtype: int64"
      ]
     },
     "execution_count": 26,
     "metadata": {},
     "output_type": "execute_result"
    }
   ],
   "source": [
    "# Check NaN \n",
    "\n",
    "tip.isnull().sum()"
   ]
  },
  {
   "cell_type": "markdown",
   "id": "simplified-bride",
   "metadata": {},
   "source": [
    "## Summary of 'tip dataframe'"
   ]
  },
  {
   "cell_type": "markdown",
   "id": "played-hierarchy",
   "metadata": {},
   "source": [
    "1. `user_id`: No NaN, 22 character length, case-sensitive corresponds to user_id in user dataframe\n",
    "2. `business_id`: No NaN, 22 character length, case-sensitive corresponds to business_id in user dataframe\n",
    "3. `text`: No NaN, string, text of the tip\n",
    "4. `date`: No NaN, date ranges from 2009-04-16 to 2019-12-13 in YYYY-MM-DD format\n",
    "5. `compliment_counts`: Number of likes tip received from 0 to 15"
   ]
  },
  {
   "cell_type": "markdown",
   "id": "ranging-instrumentation",
   "metadata": {},
   "source": [
    "# `User Dataset`"
   ]
  },
  {
   "cell_type": "code",
   "execution_count": 27,
   "id": "brutal-zoning",
   "metadata": {},
   "outputs": [
    {
     "name": "stderr",
     "output_type": "stream",
     "text": [
      "/opt/conda/lib/python3.7/site-packages/IPython/core/interactiveshell.py:3156: DtypeWarning: Columns (6) have mixed types.Specify dtype option on import or set low_memory=False.\n",
      "  interactivity=interactivity, compiler=compiler, result=result)\n"
     ]
    },
    {
     "name": "stdout",
     "output_type": "stream",
     "text": [
      "<class 'pandas.core.frame.DataFrame'>\n",
      "RangeIndex: 1968703 entries, 0 to 1968702\n",
      "Data columns (total 22 columns):\n",
      " #   Column              Dtype  \n",
      "---  ------              -----  \n",
      " 0   useful              int64  \n",
      " 1   compliment_note     int64  \n",
      " 2   compliment_cute     int64  \n",
      " 3   name                object \n",
      " 4   compliment_hot      int64  \n",
      " 5   compliment_writer   int64  \n",
      " 6   elite               object \n",
      " 7   compliment_funny    int64  \n",
      " 8   compliment_cool     int64  \n",
      " 9   compliment_more     int64  \n",
      " 10  user_id             object \n",
      " 11  review_count        int64  \n",
      " 12  compliment_profile  int64  \n",
      " 13  funny               int64  \n",
      " 14  friends             object \n",
      " 15  cool                int64  \n",
      " 16  yelping_since       object \n",
      " 17  average_stars       float64\n",
      " 18  compliment_list     int64  \n",
      " 19  fans                int64  \n",
      " 20  compliment_plain    int64  \n",
      " 21  compliment_photos   int64  \n",
      "dtypes: float64(1), int64(16), object(5)\n",
      "memory usage: 330.4+ MB\n"
     ]
    }
   ],
   "source": [
    "# Load data\n",
    "\n",
    "# user_data = pd.read_json('user.json', lines=True)\n",
    "user = pd.read_csv('user.csv')\n",
    "user.info()"
   ]
  },
  {
   "cell_type": "code",
   "execution_count": 28,
   "id": "awful-inspection",
   "metadata": {},
   "outputs": [
    {
     "data": {
      "text/html": [
       "<div>\n",
       "<style scoped>\n",
       "    .dataframe tbody tr th:only-of-type {\n",
       "        vertical-align: middle;\n",
       "    }\n",
       "\n",
       "    .dataframe tbody tr th {\n",
       "        vertical-align: top;\n",
       "    }\n",
       "\n",
       "    .dataframe thead th {\n",
       "        text-align: right;\n",
       "    }\n",
       "</style>\n",
       "<table border=\"1\" class=\"dataframe\">\n",
       "  <thead>\n",
       "    <tr style=\"text-align: right;\">\n",
       "      <th></th>\n",
       "      <th>useful</th>\n",
       "      <th>compliment_note</th>\n",
       "      <th>compliment_cute</th>\n",
       "      <th>name</th>\n",
       "      <th>compliment_hot</th>\n",
       "      <th>compliment_writer</th>\n",
       "      <th>elite</th>\n",
       "      <th>compliment_funny</th>\n",
       "      <th>compliment_cool</th>\n",
       "      <th>compliment_more</th>\n",
       "      <th>...</th>\n",
       "      <th>compliment_profile</th>\n",
       "      <th>funny</th>\n",
       "      <th>friends</th>\n",
       "      <th>cool</th>\n",
       "      <th>yelping_since</th>\n",
       "      <th>average_stars</th>\n",
       "      <th>compliment_list</th>\n",
       "      <th>fans</th>\n",
       "      <th>compliment_plain</th>\n",
       "      <th>compliment_photos</th>\n",
       "    </tr>\n",
       "  </thead>\n",
       "  <tbody>\n",
       "    <tr>\n",
       "      <th>0</th>\n",
       "      <td>628</td>\n",
       "      <td>11</td>\n",
       "      <td>0</td>\n",
       "      <td>Rafael</td>\n",
       "      <td>3</td>\n",
       "      <td>10</td>\n",
       "      <td>NaN</td>\n",
       "      <td>22</td>\n",
       "      <td>22</td>\n",
       "      <td>2</td>\n",
       "      <td>...</td>\n",
       "      <td>1</td>\n",
       "      <td>225</td>\n",
       "      <td>oeMvJh94PiGQnx_6GlndPQ, wm1z1PaJKvHgSDRKfwhfDg...</td>\n",
       "      <td>227</td>\n",
       "      <td>2007-07-06 03:27:11</td>\n",
       "      <td>3.57</td>\n",
       "      <td>1</td>\n",
       "      <td>14</td>\n",
       "      <td>15</td>\n",
       "      <td>0</td>\n",
       "    </tr>\n",
       "    <tr>\n",
       "      <th>1</th>\n",
       "      <td>790</td>\n",
       "      <td>33</td>\n",
       "      <td>2</td>\n",
       "      <td>Michelle</td>\n",
       "      <td>36</td>\n",
       "      <td>21</td>\n",
       "      <td>2008,2009,2010,2011,2012,2013</td>\n",
       "      <td>63</td>\n",
       "      <td>63</td>\n",
       "      <td>4</td>\n",
       "      <td>...</td>\n",
       "      <td>5</td>\n",
       "      <td>316</td>\n",
       "      <td>ly7EnE8leJmyqyePVYFlug, pRlR63iDytsnnniPb3AOug...</td>\n",
       "      <td>400</td>\n",
       "      <td>2008-04-28 01:29:25</td>\n",
       "      <td>3.84</td>\n",
       "      <td>1</td>\n",
       "      <td>27</td>\n",
       "      <td>37</td>\n",
       "      <td>5</td>\n",
       "    </tr>\n",
       "    <tr>\n",
       "      <th>2</th>\n",
       "      <td>151</td>\n",
       "      <td>3</td>\n",
       "      <td>1</td>\n",
       "      <td>Martin</td>\n",
       "      <td>9</td>\n",
       "      <td>4</td>\n",
       "      <td>2010</td>\n",
       "      <td>17</td>\n",
       "      <td>17</td>\n",
       "      <td>6</td>\n",
       "      <td>...</td>\n",
       "      <td>0</td>\n",
       "      <td>125</td>\n",
       "      <td>Uwlk0txjQBPw_JhHsQnyeg, Ybxr1tSCkv3lYA0I1qmnPQ...</td>\n",
       "      <td>103</td>\n",
       "      <td>2008-08-28 23:40:05</td>\n",
       "      <td>3.44</td>\n",
       "      <td>0</td>\n",
       "      <td>5</td>\n",
       "      <td>7</td>\n",
       "      <td>1</td>\n",
       "    </tr>\n",
       "    <tr>\n",
       "      <th>3</th>\n",
       "      <td>233</td>\n",
       "      <td>7</td>\n",
       "      <td>0</td>\n",
       "      <td>John</td>\n",
       "      <td>2</td>\n",
       "      <td>2</td>\n",
       "      <td>2009</td>\n",
       "      <td>7</td>\n",
       "      <td>7</td>\n",
       "      <td>1</td>\n",
       "      <td>...</td>\n",
       "      <td>0</td>\n",
       "      <td>160</td>\n",
       "      <td>iog3Nyg1i4jeumiTVG_BSA, M92xWY2Vr9w0xoH8bPplfQ...</td>\n",
       "      <td>84</td>\n",
       "      <td>2008-09-20 00:08:14</td>\n",
       "      <td>3.08</td>\n",
       "      <td>0</td>\n",
       "      <td>6</td>\n",
       "      <td>14</td>\n",
       "      <td>0</td>\n",
       "    </tr>\n",
       "    <tr>\n",
       "      <th>4</th>\n",
       "      <td>1265</td>\n",
       "      <td>22</td>\n",
       "      <td>1</td>\n",
       "      <td>Anne</td>\n",
       "      <td>8</td>\n",
       "      <td>19</td>\n",
       "      <td>2009,2010,2011,2012,2014,2015,2016,2017,2018</td>\n",
       "      <td>31</td>\n",
       "      <td>31</td>\n",
       "      <td>9</td>\n",
       "      <td>...</td>\n",
       "      <td>2</td>\n",
       "      <td>400</td>\n",
       "      <td>3W3ZMSthojCUirKEqAwGNw, eTIbuu23j9tOgmIa9POyLQ...</td>\n",
       "      <td>512</td>\n",
       "      <td>2008-08-09 00:30:27</td>\n",
       "      <td>4.37</td>\n",
       "      <td>1</td>\n",
       "      <td>78</td>\n",
       "      <td>28</td>\n",
       "      <td>31</td>\n",
       "    </tr>\n",
       "  </tbody>\n",
       "</table>\n",
       "<p>5 rows × 22 columns</p>\n",
       "</div>"
      ],
      "text/plain": [
       "   useful  compliment_note  compliment_cute      name  compliment_hot  \\\n",
       "0     628               11                0    Rafael               3   \n",
       "1     790               33                2  Michelle              36   \n",
       "2     151                3                1    Martin               9   \n",
       "3     233                7                0      John               2   \n",
       "4    1265               22                1      Anne               8   \n",
       "\n",
       "   compliment_writer                                         elite  \\\n",
       "0                 10                                           NaN   \n",
       "1                 21                 2008,2009,2010,2011,2012,2013   \n",
       "2                  4                                          2010   \n",
       "3                  2                                          2009   \n",
       "4                 19  2009,2010,2011,2012,2014,2015,2016,2017,2018   \n",
       "\n",
       "   compliment_funny  compliment_cool  compliment_more  ... compliment_profile  \\\n",
       "0                22               22                2  ...                  1   \n",
       "1                63               63                4  ...                  5   \n",
       "2                17               17                6  ...                  0   \n",
       "3                 7                7                1  ...                  0   \n",
       "4                31               31                9  ...                  2   \n",
       "\n",
       "   funny                                            friends  cool  \\\n",
       "0    225  oeMvJh94PiGQnx_6GlndPQ, wm1z1PaJKvHgSDRKfwhfDg...   227   \n",
       "1    316  ly7EnE8leJmyqyePVYFlug, pRlR63iDytsnnniPb3AOug...   400   \n",
       "2    125  Uwlk0txjQBPw_JhHsQnyeg, Ybxr1tSCkv3lYA0I1qmnPQ...   103   \n",
       "3    160  iog3Nyg1i4jeumiTVG_BSA, M92xWY2Vr9w0xoH8bPplfQ...    84   \n",
       "4    400  3W3ZMSthojCUirKEqAwGNw, eTIbuu23j9tOgmIa9POyLQ...   512   \n",
       "\n",
       "         yelping_since  average_stars compliment_list  fans  compliment_plain  \\\n",
       "0  2007-07-06 03:27:11           3.57               1    14                15   \n",
       "1  2008-04-28 01:29:25           3.84               1    27                37   \n",
       "2  2008-08-28 23:40:05           3.44               0     5                 7   \n",
       "3  2008-09-20 00:08:14           3.08               0     6                14   \n",
       "4  2008-08-09 00:30:27           4.37               1    78                28   \n",
       "\n",
       "   compliment_photos  \n",
       "0                  0  \n",
       "1                  5  \n",
       "2                  1  \n",
       "3                  0  \n",
       "4                 31  \n",
       "\n",
       "[5 rows x 22 columns]"
      ]
     },
     "execution_count": 28,
     "metadata": {},
     "output_type": "execute_result"
    }
   ],
   "source": [
    "# DF information\n",
    "\n",
    "user.head()"
   ]
  },
  {
   "cell_type": "code",
   "execution_count": 29,
   "id": "prescription-precipitation",
   "metadata": {},
   "outputs": [
    {
     "data": {
      "text/plain": [
       "useful                      0\n",
       "compliment_note             0\n",
       "compliment_cute             0\n",
       "name                        5\n",
       "compliment_hot              0\n",
       "compliment_writer           0\n",
       "elite                 1892742\n",
       "compliment_funny            0\n",
       "compliment_cool             0\n",
       "compliment_more             0\n",
       "user_id                     0\n",
       "review_count                0\n",
       "compliment_profile          0\n",
       "funny                       0\n",
       "friends                     0\n",
       "cool                        0\n",
       "yelping_since               0\n",
       "average_stars               0\n",
       "compliment_list             0\n",
       "fans                        0\n",
       "compliment_plain            0\n",
       "compliment_photos           0\n",
       "dtype: int64"
      ]
     },
     "execution_count": 29,
     "metadata": {},
     "output_type": "execute_result"
    }
   ],
   "source": [
    "# Check NaN \n",
    "\n",
    "user.isnull().sum()"
   ]
  },
  {
   "cell_type": "markdown",
   "id": "respected-yield",
   "metadata": {},
   "source": [
    "## Summary of 'user dataframe'"
   ]
  },
  {
   "cell_type": "markdown",
   "id": "indie-jenny",
   "metadata": {},
   "source": [
    "1. `user_id`: No NaN, unique 22 characters\n",
    "2. `name`: No NaN, name of the user\n",
    "3. `review_count`: No NaN, total reviews of user fro 0 to 14455\n",
    "4. `yelping_since`: No NaN, the date user joined Yelp from 10/12/2004 to 12/13/2019\n",
    "5. `elite`: No NaN, conatins list of year member was elite (very active contributor)"
   ]
  },
  {
   "cell_type": "markdown",
   "id": "ambient-feeding",
   "metadata": {},
   "source": [
    "## Convert to CSV"
   ]
  },
  {
   "cell_type": "raw",
   "id": "split-creature",
   "metadata": {},
   "source": [
    "#business.to_csv(path_or_buf='clean_business.csv',index=False)\n",
    "#checkin.to_csv(path_or_buf='clean_checkin.csv',index=False)\n",
    "review.to_csv(path_or_buf='clean_review.csv',index=False)\n",
    "#tip.to_csv(path_or_buf='clean_tip.csv',index=False)\n",
    "#user.to_csv(path_or_buf='clean_user.csv',index=False)"
   ]
  }
 ],
 "metadata": {
  "environment": {
   "name": "tf2-gpu.2-4.mnightly-2021-02-02-debian-10-test",
   "type": "gcloud",
   "uri": "gcr.io/deeplearning-platform-release/tf2-gpu.2-4:mnightly-2021-02-02-debian-10-test"
  },
  "kernelspec": {
   "display_name": "Python [conda env:root] *",
   "language": "python",
   "name": "conda-root-py"
  },
  "language_info": {
   "codemirror_mode": {
    "name": "ipython",
    "version": 3
   },
   "file_extension": ".py",
   "mimetype": "text/x-python",
   "name": "python",
   "nbconvert_exporter": "python",
   "pygments_lexer": "ipython3",
   "version": "3.7.9"
  }
 },
 "nbformat": 4,
 "nbformat_minor": 5
}
