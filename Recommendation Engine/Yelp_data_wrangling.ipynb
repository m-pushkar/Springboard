{
 "cells": [
  {
   "cell_type": "markdown",
   "id": "maritime-telling",
   "metadata": {},
   "source": [
    "# `Buisness Dataset`"
   ]
  },
  {
   "cell_type": "code",
   "execution_count": 1,
   "id": "cathedral-springfield",
   "metadata": {},
   "outputs": [],
   "source": [
    "# Import libraries\n",
    "\n",
    "import pandas as pd\n",
    "import numpy as np\n",
    "from collections import defaultdict\n",
    "\n",
    "# pip install google-cloud-storage       ## Run only if you want to install dependency\n",
    "from google.cloud import storage"
   ]
  },
  {
   "cell_type": "code",
   "execution_count": 2,
   "id": "likely-michigan",
   "metadata": {},
   "outputs": [],
   "source": [
    "## Run this block only once to download files from Google cloud to VM instance\n",
    "\n",
    "\n",
    "\"\"\" Reference: \n",
    "https://stackoverflow.com/questions/56721927/how-to-load-data-to-jupyter-notebook-vm-from-google-cloud\n",
    "\"\"\"\n",
    "\n",
    "\n",
    "bucket_name = \"springboard-yelp\"\n",
    "\n",
    "storage_client = storage.Client()\n",
    "bucket = storage_client.get_bucket(bucket_name)\n",
    "\n",
    "blobs = bucket.list_blobs()\n",
    "\n",
    "# When you have your files on the first level of your bucket\n",
    "for blob in blobs:\n",
    "    file_name = blob.name\n",
    "    blob.download_to_filename(file_name) # download the file to the machine "
   ]
  },
  {
   "cell_type": "code",
   "execution_count": 3,
   "id": "historic-fireplace",
   "metadata": {},
   "outputs": [],
   "source": [
    "# Load data\n",
    "\n",
    "business_data = pd.read_json('business.json', lines=True)\n",
    "business = pd.DataFrame(business_data)"
   ]
  },
  {
   "cell_type": "code",
   "execution_count": 4,
   "id": "sunset-circular",
   "metadata": {},
   "outputs": [
    {
     "name": "stdout",
     "output_type": "stream",
     "text": [
      "<class 'pandas.core.frame.DataFrame'>\n",
      "RangeIndex: 209393 entries, 0 to 209392\n",
      "Data columns (total 14 columns):\n",
      " #   Column        Non-Null Count   Dtype  \n",
      "---  ------        --------------   -----  \n",
      " 0   business_id   209393 non-null  object \n",
      " 1   name          209393 non-null  object \n",
      " 2   address       209393 non-null  object \n",
      " 3   city          209393 non-null  object \n",
      " 4   state         209393 non-null  object \n",
      " 5   postal_code   209393 non-null  object \n",
      " 6   latitude      209393 non-null  float64\n",
      " 7   longitude     209393 non-null  float64\n",
      " 8   stars         209393 non-null  float64\n",
      " 9   review_count  209393 non-null  int64  \n",
      " 10  is_open       209393 non-null  int64  \n",
      " 11  attributes    180348 non-null  object \n",
      " 12  categories    208869 non-null  object \n",
      " 13  hours         164550 non-null  object \n",
      "dtypes: float64(3), int64(2), object(9)\n",
      "memory usage: 22.4+ MB\n"
     ]
    }
   ],
   "source": [
    "# Get useful information about dataframe\n",
    "\n",
    "business.info()"
   ]
  },
  {
   "cell_type": "code",
   "execution_count": 5,
   "id": "tutorial-jewelry",
   "metadata": {},
   "outputs": [
    {
     "data": {
      "text/plain": [
       "array(['NC', 'AZ', 'QC', 'NV', 'IL', 'ON', 'AB', 'PA', 'WI', 'SC', 'OH',\n",
       "       'CA', 'TX', 'NY', 'CO', 'XWY', 'GA', 'BC', 'YT', 'HPL', 'AL', 'UT',\n",
       "       'VT', 'WA', 'NE', 'DOW', 'MI', 'FL', 'AR', 'HI', 'MB', 'OR', 'AK',\n",
       "       'VA', 'CT', 'MO', 'DUR'], dtype=object)"
      ]
     },
     "execution_count": 5,
     "metadata": {},
     "output_type": "execute_result"
    }
   ],
   "source": [
    "# Get 'states' information\n",
    "\n",
    "business.state.unique()"
   ]
  },
  {
   "cell_type": "code",
   "execution_count": 6,
   "id": "pretty-elder",
   "metadata": {},
   "outputs": [],
   "source": [
    "# Consider only US states\n",
    "\n",
    "us_states = ['AL','AK','AR','AS','AZ','CA','CO','CT','DC','DE','FL','FM','GA','GU','HI','IA','ID','IL','IN','KS','KY','LA','MA','MD','ME','MH','MI','MN','MO','MS','MT','NC','ND','NE','NH','NJ','NM','NV','NY','MP','OH','OK','OR','PA','PR','PW','RI','SC','SD','TN','TX','UT','VA','VI','VT','WA','WI','WV','WY']"
   ]
  },
  {
   "cell_type": "code",
   "execution_count": 7,
   "id": "western-wayne",
   "metadata": {},
   "outputs": [
    {
     "data": {
      "text/plain": [
       "208869"
      ]
     },
     "execution_count": 7,
     "metadata": {},
     "output_type": "execute_result"
    }
   ],
   "source": [
    "# Clean data by removing null \n",
    "\n",
    "business = business[business.categories.notnull()]\n",
    "len(business)"
   ]
  },
  {
   "cell_type": "code",
   "execution_count": 8,
   "id": "enormous-bride",
   "metadata": {},
   "outputs": [],
   "source": [
    "# Extract categories\n",
    "\n",
    "category = defaultdict(int)\n",
    "\n",
    "for idx, row in business.iterrows():\n",
    "    if row['categories'] is not np.nan: \n",
    "        data = row['categories'].split(',')\n",
    "        for entry in data: \n",
    "            entry = entry.strip().lower()\n",
    "            category[entry] += 1"
   ]
  },
  {
   "cell_type": "code",
   "execution_count": 9,
   "id": "regional-munich",
   "metadata": {},
   "outputs": [
    {
     "name": "stdout",
     "output_type": "stream",
     "text": [
      "1336\n",
      "[('restaurants', 63944), ('shopping', 34644), ('food', 32991), ('home services', 22487), ('beauty & spas', 20520), ('health & medical', 19227), ('local services', 15783), ('automotive', 14720), ('nightlife', 14211), ('bars', 12400), ('event planning & services', 11263), ('active life', 10225), ('coffee & tea', 8415), ('fashion', 8374), ('fast food', 8106), ('sandwiches', 8064), ('american (traditional)', 7596), ('home & garden', 7331), ('hair salons', 7303), ('pizza', 7302)]\n"
     ]
    }
   ],
   "source": [
    "category_sorted = sorted(category.items(), key=lambda x: x[1], reverse=True)\n",
    "print(len(category))\n",
    "print(category_sorted[:20])"
   ]
  },
  {
   "cell_type": "code",
   "execution_count": 10,
   "id": "personal-authorization",
   "metadata": {},
   "outputs": [],
   "source": [
    "# Apply filters for states and categories\n",
    "# Reduced to 153579 by 26% after US states and then restaurant related to 44202 reduced by 78% overall based on non- null data\n",
    "\n",
    "business = business[(business.postal_code.astype(str).apply(len) == 5) & (business.state.isin(us_states)) & \n",
    "                    ((business.categories.str.contains('restaurant', case=False)) |\n",
    "                     (business.categories.str.contains('bar', case=False)) | \n",
    "                     (business.categories.str.contains('nightlife', case=False)))]"
   ]
  },
  {
   "cell_type": "code",
   "execution_count": 11,
   "id": "polar-drilling",
   "metadata": {},
   "outputs": [
    {
     "data": {
      "text/plain": [
       "array(['IL', 'NC', 'AZ', 'NV', 'OH', 'PA', 'SC', 'WI', 'TX', 'CO', 'NY',\n",
       "       'FL', 'VT', 'AR', 'HI', 'OR', 'WA', 'AK', 'CA', 'VA', 'NE'],\n",
       "      dtype=object)"
      ]
     },
     "execution_count": 11,
     "metadata": {},
     "output_type": "execute_result"
    }
   ],
   "source": [
    "# Confirm data contains only US states\n",
    "\n",
    "business.state.unique()"
   ]
  },
  {
   "cell_type": "code",
   "execution_count": 12,
   "id": "infectious-examination",
   "metadata": {},
   "outputs": [
    {
     "data": {
      "text/plain": [
       "<AxesSubplot:>"
      ]
     },
     "execution_count": 12,
     "metadata": {},
     "output_type": "execute_result"
    },
    {
     "data": {
      "image/png": "[encoded data removed]",
      "text/plain": [
       "<Figure size 432x288 with 1 Axes>"
      ]
     },
     "metadata": {
      "needs_background": "light"
     },
     "output_type": "display_data"
    }
   ],
   "source": [
    "# Plot frequent places\n",
    "\n",
    "business.name.value_counts()[:15].plot(kind='barh')"
   ]
  },
  {
   "cell_type": "code",
   "execution_count": 13,
   "id": "appreciated-miller",
   "metadata": {},
   "outputs": [],
   "source": [
    "# Extract cuisine and style from 'categories' column information \n",
    "\n",
    "cuisines = ['american (new)', 'american (traditional)', 'asian fusion', 'bagels', 'bakeries', \n",
    "            'barbeque', 'beer', 'bubble tea', 'burgers', 'cajun', 'chicken wings', 'chinese', \n",
    "            'coffee & tea', 'cupcakes', 'custom cakes', 'desserts', 'donuts', 'ethnic food', \n",
    "            'french', 'gluten-free', 'greek', 'hawaiian', 'hot dogs', 'ice cream & frozen yogurt', \n",
    "            'indian', 'italian', 'japanese', 'korean', 'latin american', 'local flavor', 'mediterranean', \n",
    "            'mexican', 'middle eastern', 'pizza', 'salad', 'sandwiches', 'seafood', 'shaved ice', 'soup', \n",
    "            'southern', 'specialty food', 'steakhouse', 'sushi bars', 'tacos', 'tapas/small plates', 'tex-mex', \n",
    "            'thai', 'vegan', 'vegetarian', 'vietnamese', 'wine & spirits']\n",
    "\n",
    "styles = ['bars', 'beer bars', 'breakfast & brunch', 'breweries', 'buffets', 'cafes', 'casinos', \n",
    "          'caterers', 'cocktail bars', 'dance clubs', 'delis', 'diners', 'dive bars', 'fast food', \n",
    "          'food delivery services', 'food stands', 'food trucks', 'juice bars & smoothies', 'lounges', \n",
    "          'music venues', 'nightlife', 'performing arts', 'pubs', 'restaurants', 'sports bars', 'street vendors', \n",
    "          'wine bars']\n",
    "\n",
    "# Create new columns\n",
    "business['cuisine'] = None\n",
    "business['style'] = None\n",
    "\n",
    "\n",
    "for idx, row in business.iterrows():\n",
    "    if row['categories'] is not np.nan:\n",
    "        cuisine_list = row['categories'].split(',')\n",
    "        #print(cuisine_list)\n",
    "        for i in cuisine_list:\n",
    "            i = i.strip().lower()\n",
    "            # print(i)\n",
    "            if i in cuisines:\n",
    "                # print('cuisine')\n",
    "                if business.loc[idx, 'cuisine'] == None:\n",
    "                    business.loc[idx, 'cuisine'] = i\n",
    "                else:\n",
    "                    business.loc[idx, 'cuisine'] += (',' + i)\n",
    "                #print(business['cuisine'])\n",
    "                \n",
    "            elif i in styles:\n",
    "                # print('style')\n",
    "                if business.loc[idx, 'style'] == None:\n",
    "                    business.loc[idx, 'style'] = i\n",
    "                else:\n",
    "                    business.loc[idx, 'style'] += (',' + i)\n",
    "                #print(business['style'])"
   ]
  },
  {
   "cell_type": "code",
   "execution_count": 14,
   "id": "automotive-denial",
   "metadata": {},
   "outputs": [
    {
     "data": {
      "text/plain": [
       "business_id        0\n",
       "name               0\n",
       "address            0\n",
       "city               0\n",
       "state              0\n",
       "postal_code        0\n",
       "latitude           0\n",
       "longitude          0\n",
       "stars              0\n",
       "review_count       0\n",
       "is_open            0\n",
       "attributes       732\n",
       "categories         0\n",
       "hours           8517\n",
       "cuisine         7946\n",
       "style           1930\n",
       "dtype: int64"
      ]
     },
     "execution_count": 14,
     "metadata": {},
     "output_type": "execute_result"
    }
   ],
   "source": [
    "# Update None with NaN\n",
    "# Reset index\n",
    "# check NaN\n",
    "\n",
    "business.fillna(value=np.nan, inplace=True)\n",
    "business.reset_index(drop=True, inplace=True)\n",
    "business.isnull().sum()"
   ]
  },
  {
   "cell_type": "code",
   "execution_count": 15,
   "id": "ahead-aviation",
   "metadata": {},
   "outputs": [
    {
     "name": "stdout",
     "output_type": "stream",
     "text": [
      "<class 'pandas.core.frame.DataFrame'>\n",
      "RangeIndex: 44202 entries, 0 to 44201\n",
      "Data columns (total 16 columns):\n",
      " #   Column        Non-Null Count  Dtype  \n",
      "---  ------        --------------  -----  \n",
      " 0   business_id   44202 non-null  object \n",
      " 1   name          44202 non-null  object \n",
      " 2   address       44202 non-null  object \n",
      " 3   city          44202 non-null  object \n",
      " 4   state         44202 non-null  object \n",
      " 5   postal_code   44202 non-null  object \n",
      " 6   latitude      44202 non-null  float64\n",
      " 7   longitude     44202 non-null  float64\n",
      " 8   stars         44202 non-null  float64\n",
      " 9   review_count  44202 non-null  int64  \n",
      " 10  is_open       44202 non-null  int64  \n",
      " 11  attributes    43470 non-null  object \n",
      " 12  categories    44202 non-null  object \n",
      " 13  hours         35685 non-null  object \n",
      " 14  cuisine       36256 non-null  object \n",
      " 15  style         42272 non-null  object \n",
      "dtypes: float64(3), int64(2), object(11)\n",
      "memory usage: 5.4+ MB\n"
     ]
    }
   ],
   "source": [
    "business.info()"
   ]
  },
  {
   "cell_type": "markdown",
   "id": "drawn-links",
   "metadata": {},
   "source": [
    "## Summary of 'business dataframe'"
   ]
  },
  {
   "cell_type": "markdown",
   "id": "dirty-debate",
   "metadata": {},
   "source": [
    "1. `business_id`: No NaN, 22 character length, case-sensitive corresponds to `business_id` in user dataframe\n",
    "2. `name`, `address`, `city`, `state`, `postal_code`, `latitude`, `longitude`, `review_count`: No NaN\n",
    "3. `stars`: No NaN, ratings take value 1(1%), 1.5(2.5%), 2(6%), 2.5(10%), 3(16.5%), 3.5(22%), 4(24%), 4.5(14%), 5(4%)\n",
    "5. `is_open`: No NaN, 0 for closed(31%), 1 for open(69%)\n",
    "6. `attributes`: 1.6% NaN with subattributes in nested dict\n",
    "7. `categories`: No NaN, describes cusine or style\n",
    "8. `hours`: 20% NaN\n",
    "9. `cuisine`: 18% NaN, represents cuisines\n",
    "10. `style`: 5% NaN, represents styles"
   ]
  },
  {
   "cell_type": "markdown",
   "id": "favorite-picking",
   "metadata": {},
   "source": [
    "# `Checkin Dataset`"
   ]
  },
  {
   "cell_type": "code",
   "execution_count": 16,
   "id": "convenient-mentor",
   "metadata": {},
   "outputs": [],
   "source": [
    "# Load data\n",
    "\n",
    "checkin_data = pd.read_json('checkin.json', lines=True)\n",
    "checkin = pd.DataFrame(checkin_data)"
   ]
  },
  {
   "cell_type": "code",
   "execution_count": 17,
   "id": "ranging-opera",
   "metadata": {},
   "outputs": [
    {
     "name": "stdout",
     "output_type": "stream",
     "text": [
      "<class 'pandas.core.frame.DataFrame'>\n",
      "RangeIndex: 175187 entries, 0 to 175186\n",
      "Data columns (total 2 columns):\n",
      " #   Column       Non-Null Count   Dtype \n",
      "---  ------       --------------   ----- \n",
      " 0   business_id  175187 non-null  object\n",
      " 1   date         175187 non-null  object\n",
      "dtypes: object(2)\n",
      "memory usage: 2.7+ MB\n"
     ]
    }
   ],
   "source": [
    "# Get useful information about dataframe\n",
    "\n",
    "checkin.info()"
   ]
  },
  {
   "cell_type": "code",
   "execution_count": 18,
   "id": "frozen-surfing",
   "metadata": {},
   "outputs": [],
   "source": [
    "# Convert date column to string and count checkins\n",
    "\n",
    "checkin['checkin_count'] = checkin['date'].astype(str).str.len()"
   ]
  },
  {
   "cell_type": "code",
   "execution_count": 19,
   "id": "unnecessary-warehouse",
   "metadata": {},
   "outputs": [
    {
     "data": {
      "text/html": [
       "<div>\n",
       "<style scoped>\n",
       "    .dataframe tbody tr th:only-of-type {\n",
       "        vertical-align: middle;\n",
       "    }\n",
       "\n",
       "    .dataframe tbody tr th {\n",
       "        vertical-align: top;\n",
       "    }\n",
       "\n",
       "    .dataframe thead th {\n",
       "        text-align: right;\n",
       "    }\n",
       "</style>\n",
       "<table border=\"1\" class=\"dataframe\">\n",
       "  <thead>\n",
       "    <tr style=\"text-align: right;\">\n",
       "      <th></th>\n",
       "      <th>business_id</th>\n",
       "      <th>date</th>\n",
       "      <th>checkin_count</th>\n",
       "    </tr>\n",
       "  </thead>\n",
       "  <tbody>\n",
       "    <tr>\n",
       "      <th>0</th>\n",
       "      <td>--1UhMGODdWsrMastO9DZw</td>\n",
       "      <td>2016-04-26 19:49:16, 2016-08-30 18:36:57, 2016...</td>\n",
       "      <td>145</td>\n",
       "    </tr>\n",
       "    <tr>\n",
       "      <th>1</th>\n",
       "      <td>--6MefnULPED_I942VcFNA</td>\n",
       "      <td>2011-06-04 18:22:23, 2011-07-23 23:51:33, 2012...</td>\n",
       "      <td>3967</td>\n",
       "    </tr>\n",
       "    <tr>\n",
       "      <th>2</th>\n",
       "      <td>--7zmmkVg-IMGaXbuVd0SQ</td>\n",
       "      <td>2014-12-29 19:25:50, 2015-01-17 01:49:14, 2015...</td>\n",
       "      <td>4051</td>\n",
       "    </tr>\n",
       "    <tr>\n",
       "      <th>3</th>\n",
       "      <td>--8LPVSo5i0Oo61X01sV9A</td>\n",
       "      <td>2016-07-08 16:43:30</td>\n",
       "      <td>19</td>\n",
       "    </tr>\n",
       "    <tr>\n",
       "      <th>4</th>\n",
       "      <td>--9QQLMTbFzLJ_oT-ON3Xw</td>\n",
       "      <td>2010-06-26 17:39:07, 2010-08-01 20:06:21, 2010...</td>\n",
       "      <td>796</td>\n",
       "    </tr>\n",
       "  </tbody>\n",
       "</table>\n",
       "</div>"
      ],
      "text/plain": [
       "              business_id                                               date  \\\n",
       "0  --1UhMGODdWsrMastO9DZw  2016-04-26 19:49:16, 2016-08-30 18:36:57, 2016...   \n",
       "1  --6MefnULPED_I942VcFNA  2011-06-04 18:22:23, 2011-07-23 23:51:33, 2012...   \n",
       "2  --7zmmkVg-IMGaXbuVd0SQ  2014-12-29 19:25:50, 2015-01-17 01:49:14, 2015...   \n",
       "3  --8LPVSo5i0Oo61X01sV9A                                2016-07-08 16:43:30   \n",
       "4  --9QQLMTbFzLJ_oT-ON3Xw  2010-06-26 17:39:07, 2010-08-01 20:06:21, 2010...   \n",
       "\n",
       "   checkin_count  \n",
       "0            145  \n",
       "1           3967  \n",
       "2           4051  \n",
       "3             19  \n",
       "4            796  "
      ]
     },
     "execution_count": 19,
     "metadata": {},
     "output_type": "execute_result"
    }
   ],
   "source": [
    "checkin.head()"
   ]
  },
  {
   "cell_type": "code",
   "execution_count": 20,
   "id": "naval-lexington",
   "metadata": {},
   "outputs": [
    {
     "data": {
      "text/plain": [
       "business_id      0\n",
       "date             0\n",
       "checkin_count    0\n",
       "dtype: int64"
      ]
     },
     "execution_count": 20,
     "metadata": {},
     "output_type": "execute_result"
    }
   ],
   "source": [
    "# Check NaN\n",
    "\n",
    "checkin.isnull().sum()"
   ]
  },
  {
   "cell_type": "code",
   "execution_count": 21,
   "id": "cardiovascular-threat",
   "metadata": {},
   "outputs": [
    {
     "data": {
      "text/plain": [
       "175187"
      ]
     },
     "execution_count": 21,
     "metadata": {},
     "output_type": "execute_result"
    }
   ],
   "source": [
    "# Check duplicates\n",
    "\n",
    "len(checkin['business_id'].unique())"
   ]
  },
  {
   "cell_type": "markdown",
   "id": "downtown-portuguese",
   "metadata": {},
   "source": [
    "## Summary of 'business dataframe'"
   ]
  },
  {
   "cell_type": "markdown",
   "id": "introductory-johns",
   "metadata": {},
   "source": [
    "1. `business_id`: No NaN, unique ids, 22 characters\n",
    "2. `date`: No NaN, nested dictionaries representing checkins\n",
    "3. `checkin_count`: No NaN, total number of checkins ranging from 19 to 3185089"
   ]
  },
  {
   "cell_type": "markdown",
   "id": "patient-paper",
   "metadata": {},
   "source": [
    "# `Review Dataset`"
   ]
  },
  {
   "cell_type": "code",
   "execution_count": 22,
   "id": "medical-shore",
   "metadata": {},
   "outputs": [],
   "source": [
    "# Load data\n",
    "\n",
    "review_data = pd.read_json('review.json', lines=True)\n",
    "review = pd.DataFrame(review_data)"
   ]
  },
  {
   "cell_type": "code",
   "execution_count": 23,
   "id": "tested-sphere",
   "metadata": {},
   "outputs": [
    {
     "name": "stdout",
     "output_type": "stream",
     "text": [
      "<class 'pandas.core.frame.DataFrame'>\n",
      "RangeIndex: 8021122 entries, 0 to 8021121\n",
      "Data columns (total 9 columns):\n",
      " #   Column       Dtype         \n",
      "---  ------       -----         \n",
      " 0   review_id    object        \n",
      " 1   user_id      object        \n",
      " 2   business_id  object        \n",
      " 3   stars        int64         \n",
      " 4   useful       int64         \n",
      " 5   funny        int64         \n",
      " 6   cool         int64         \n",
      " 7   text         object        \n",
      " 8   date         datetime64[ns]\n",
      "dtypes: datetime64[ns](1), int64(4), object(4)\n",
      "memory usage: 550.8+ MB\n"
     ]
    }
   ],
   "source": [
    "# Get useful information about dataframe\n",
    "\n",
    "review.info()"
   ]
  },
  {
   "cell_type": "code",
   "execution_count": 24,
   "id": "floral-halloween",
   "metadata": {},
   "outputs": [],
   "source": [
    "# Convert text column to string\n",
    "\n",
    "review['text'] = review['text'].astype(str)"
   ]
  },
  {
   "cell_type": "code",
   "execution_count": 25,
   "id": "structural-recovery",
   "metadata": {},
   "outputs": [],
   "source": [
    "# Replace -ve value \n",
    "\n",
    "review.loc[6543215, ['cool', 'useful']] = 0"
   ]
  },
  {
   "cell_type": "code",
   "execution_count": 27,
   "id": "changing-launch",
   "metadata": {},
   "outputs": [
    {
     "data": {
      "text/plain": [
       "review_id      0\n",
       "user_id        0\n",
       "business_id    0\n",
       "stars          0\n",
       "useful         0\n",
       "funny          0\n",
       "cool           0\n",
       "text           0\n",
       "date           0\n",
       "dtype: int64"
      ]
     },
     "execution_count": 27,
     "metadata": {},
     "output_type": "execute_result"
    }
   ],
   "source": [
    "# Check NaN\n",
    "\n",
    "review.isnull().sum()"
   ]
  },
  {
   "cell_type": "code",
   "execution_count": 30,
   "id": "promising-austria",
   "metadata": {},
   "outputs": [
    {
     "data": {
      "text/plain": [
       "8021122"
      ]
     },
     "execution_count": 30,
     "metadata": {},
     "output_type": "execute_result"
    }
   ],
   "source": [
    "# Check duplicates\n",
    "\n",
    "len(review['review_id'].unique())"
   ]
  },
  {
   "cell_type": "markdown",
   "id": "charming-world",
   "metadata": {},
   "source": [
    "## Summary of 'review dataframe'"
   ]
  },
  {
   "cell_type": "markdown",
   "id": "requested-corps",
   "metadata": {},
   "source": [
    "1. `review_id`, `user_id`, `business_id`: No NaN, case sensitive, 22 characters\n",
    "2. `stars`: No NaN, star rating from 1 to 5\n",
    "3. `useful`: No NaN, useful votes for review from 0 to 1122\n",
    "4. `funny`: No NaN, funny votes for review from 0 to 976\n",
    "5. `cool`: No NaN, cool votes for review from o to 502\n",
    "6. `text`: No NaN, actual reviews strings\n",
    "7. `date`: No NaN, review date from 10/12/2004 to 12/13/2019"
   ]
  },
  {
   "cell_type": "markdown",
   "id": "latest-compilation",
   "metadata": {},
   "source": [
    "# `Tip Dataset`"
   ]
  },
  {
   "cell_type": "code",
   "execution_count": 37,
   "id": "accessory-commodity",
   "metadata": {},
   "outputs": [
    {
     "name": "stdout",
     "output_type": "stream",
     "text": [
      "<class 'pandas.core.frame.DataFrame'>\n",
      "RangeIndex: 1320761 entries, 0 to 1320760\n",
      "Data columns (total 5 columns):\n",
      " #   Column            Non-Null Count    Dtype         \n",
      "---  ------            --------------    -----         \n",
      " 0   user_id           1320761 non-null  object        \n",
      " 1   business_id       1320761 non-null  object        \n",
      " 2   text              1320761 non-null  object        \n",
      " 3   date              1320761 non-null  datetime64[ns]\n",
      " 4   compliment_count  1320761 non-null  int64         \n",
      "dtypes: datetime64[ns](1), int64(1), object(3)\n",
      "memory usage: 50.4+ MB\n"
     ]
    }
   ],
   "source": [
    "# Load data\n",
    "\n",
    "tip_data = pd.read_json('tip.json', lines=True)\n",
    "tip = pd.DataFrame(tip_data)\n",
    "tip.info()"
   ]
  },
  {
   "cell_type": "code",
   "execution_count": 40,
   "id": "certified-handbook",
   "metadata": {},
   "outputs": [
    {
     "data": {
      "text/plain": [
       "user_id             0\n",
       "business_id         0\n",
       "text                0\n",
       "date                0\n",
       "compliment_count    0\n",
       "dtype: int64"
      ]
     },
     "execution_count": 40,
     "metadata": {},
     "output_type": "execute_result"
    }
   ],
   "source": [
    "# Check NaN \n",
    "\n",
    "tip.isnull().sum()"
   ]
  },
  {
   "cell_type": "markdown",
   "id": "responsible-arena",
   "metadata": {},
   "source": [
    "## Summary of 'tip dataframe'"
   ]
  },
  {
   "cell_type": "markdown",
   "id": "recovered-pursuit",
   "metadata": {},
   "source": [
    "1. `user_id`: No NaN, 22 character length, case-sensitive corresponds to user_id in user dataframe\n",
    "2. `business_id`: No NaN, 22 character length, case-sensitive corresponds to business_id in user dataframe\n",
    "3. `text`: No NaN, string, text of the tip\n",
    "4. `date`: No NaN, date ranges from 2009-04-16 to 2019-12-13 in YYYY-MM-DD format\n",
    "5. `compliment_counts`: Number of likes tip received from 0 to 15"
   ]
  },
  {
   "cell_type": "markdown",
   "id": "simple-inspiration",
   "metadata": {},
   "source": [
    "# `User Dataset`"
   ]
  },
  {
   "cell_type": "code",
   "execution_count": 41,
   "id": "equivalent-password",
   "metadata": {},
   "outputs": [],
   "source": [
    "# Load data\n",
    "\n",
    "user_data = pd.read_json('user.json', lines=True)\n",
    "user = pd.DataFrame(user_data)"
   ]
  },
  {
   "cell_type": "code",
   "execution_count": 44,
   "id": "meaning-courage",
   "metadata": {},
   "outputs": [
    {
     "name": "stdout",
     "output_type": "stream",
     "text": [
      "<class 'pandas.core.frame.DataFrame'>\n",
      "RangeIndex: 1968703 entries, 0 to 1968702\n",
      "Data columns (total 22 columns):\n",
      " #   Column              Dtype  \n",
      "---  ------              -----  \n",
      " 0   user_id             object \n",
      " 1   name                object \n",
      " 2   review_count        int64  \n",
      " 3   yelping_since       object \n",
      " 4   useful              int64  \n",
      " 5   funny               int64  \n",
      " 6   cool                int64  \n",
      " 7   elite               object \n",
      " 8   friends             object \n",
      " 9   fans                int64  \n",
      " 10  average_stars       float64\n",
      " 11  compliment_hot      int64  \n",
      " 12  compliment_more     int64  \n",
      " 13  compliment_profile  int64  \n",
      " 14  compliment_cute     int64  \n",
      " 15  compliment_list     int64  \n",
      " 16  compliment_note     int64  \n",
      " 17  compliment_plain    int64  \n",
      " 18  compliment_cool     int64  \n",
      " 19  compliment_funny    int64  \n",
      " 20  compliment_writer   int64  \n",
      " 21  compliment_photos   int64  \n",
      "dtypes: float64(1), int64(16), object(5)\n",
      "memory usage: 330.4+ MB\n"
     ]
    }
   ],
   "source": [
    "# Get useful information from dataframe\n",
    "\n",
    "user.info()"
   ]
  },
  {
   "cell_type": "code",
   "execution_count": 45,
   "id": "dependent-raise",
   "metadata": {},
   "outputs": [
    {
     "data": {
      "text/plain": [
       "user_id               0\n",
       "name                  0\n",
       "review_count          0\n",
       "yelping_since         0\n",
       "useful                0\n",
       "funny                 0\n",
       "cool                  0\n",
       "elite                 0\n",
       "friends               0\n",
       "fans                  0\n",
       "average_stars         0\n",
       "compliment_hot        0\n",
       "compliment_more       0\n",
       "compliment_profile    0\n",
       "compliment_cute       0\n",
       "compliment_list       0\n",
       "compliment_note       0\n",
       "compliment_plain      0\n",
       "compliment_cool       0\n",
       "compliment_funny      0\n",
       "compliment_writer     0\n",
       "compliment_photos     0\n",
       "dtype: int64"
      ]
     },
     "execution_count": 45,
     "metadata": {},
     "output_type": "execute_result"
    }
   ],
   "source": [
    "# Check NaN \n",
    "\n",
    "user.isnull().sum()"
   ]
  },
  {
   "cell_type": "markdown",
   "id": "friendly-picture",
   "metadata": {},
   "source": [
    "## Summary of 'user dataframe'"
   ]
  },
  {
   "cell_type": "markdown",
   "id": "welsh-retention",
   "metadata": {},
   "source": [
    "1. `user_id`: No NaN, unique 22 characters\n",
    "2. `name`: No NaN, name of the user\n",
    "3. `review_count`: No NaN, total reviews of user fro 0 to 14455\n",
    "4. `yelping_since`: No NaN, the date user joined Yelp from 10/12/2004 to 12/13/2019\n",
    "5. `elite`: No NaN, conatins list of year member was elite (very active contributor)"
   ]
  },
  {
   "cell_type": "markdown",
   "id": "inclusive-hearing",
   "metadata": {},
   "source": [
    "## Convert to CSV"
   ]
  },
  {
   "cell_type": "code",
   "execution_count": 133,
   "id": "static-directive",
   "metadata": {},
   "outputs": [],
   "source": [
    "business.to_csv(path_or_buf='review.csv',index=False)\n",
    "checkin.to_csv(path_or_buf='review.csv',index=False)\n",
    "review.to_csv(path_or_buf='review.csv',index=False)\n",
    "tip.to_csv(path_or_buf='review.csv',index=False)\n",
    "user.to_csv(path_or_buf='review.csv',index=False)"
   ]
  }
 ],
 "metadata": {
  "kernelspec": {
   "display_name": "Python 3",
   "language": "python",
   "name": "python3"
  },
  "language_info": {
   "codemirror_mode": {
    "name": "ipython",
    "version": 3
   },
   "file_extension": ".py",
   "mimetype": "text/x-python",
   "name": "python",
   "nbconvert_exporter": "python",
   "pygments_lexer": "ipython3",
   "version": "3.7.9"
  }
 },
 "nbformat": 4,
 "nbformat_minor": 5
}
