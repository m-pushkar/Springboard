{
 "cells": [
  {
   "cell_type": "code",
   "execution_count": 3,
   "metadata": {},
   "outputs": [],
   "source": [
    "import json\n",
    "import urllib.request as ur"
   ]
  },
  {
   "cell_type": "code",
   "execution_count": 7,
   "metadata": {},
   "outputs": [
    {
     "name": "stdout",
     "output_type": "stream",
     "text": [
      "*   Trying 3.220.40.22:80...\n",
      "* Connected to api.dp.la (3.220.40.22) port 80 (#0)\n",
      "> POST /v2/api_key/pushkar.m4407@gmail.com HTTP/1.1\n",
      "> Host: api.dp.la\n",
      "> User-Agent: curl/7.71.1\n",
      "> Accept: */*\n",
      "> \n",
      "* Mark bundle as not supporting multiuse\n",
      "< HTTP/1.1 200 OK\n",
      "< Date: Mon, 26 Oct 2020 22:32:16 GMT\n",
      "< Content-Type: application/json; charset=utf-8\n",
      "< Content-Length: 53\n",
      "< Connection: keep-alive\n",
      "< Server: nginx/1.18.0\n",
      "< \n",
      "* Connection #0 to host api.dp.la left intact\n",
      "\"API key created and sent to pushkar.m4407@gmail.com\""
     ]
    }
   ],
   "source": [
    "! curl -v -XPOST http://api.dp.la/v2/api_key/pushkar.m4407@gmail.com"
   ]
  },
  {
   "cell_type": "code",
   "execution_count": null,
   "metadata": {},
   "outputs": [],
   "source": [
    "with open(\"./api.json\") as key_file:\n",
    "    key = json.load(key_file)"
   ]
  }
 ],
 "metadata": {
  "kernelspec": {
   "display_name": "Python 3",
   "language": "python",
   "name": "python3"
  },
  "language_info": {
   "codemirror_mode": {
    "name": "ipython",
    "version": 3
   },
   "file_extension": ".py",
   "mimetype": "text/x-python",
   "name": "python",
   "nbconvert_exporter": "python",
   "pygments_lexer": "ipython3",
   "version": "3.8.3"
  }
 },
 "nbformat": 4,
 "nbformat_minor": 4
}
